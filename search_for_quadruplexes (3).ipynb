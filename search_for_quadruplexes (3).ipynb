{
 "cells": [
  {
   "cell_type": "code",
   "execution_count": 1,
   "metadata": {},
   "outputs": [],
   "source": [
    "import re"
   ]
  },
  {
   "cell_type": "code",
   "execution_count": 2,
   "metadata": {},
   "outputs": [],
   "source": [
    "from Bio import SeqIO"
   ]
  },
  {
   "cell_type": "code",
   "execution_count": 3,
   "metadata": {},
   "outputs": [],
   "source": [
    "input_file = 'virus_z-hunt.fasta'"
   ]
  },
  {
   "cell_type": "code",
   "execution_count": 4,
   "metadata": {},
   "outputs": [],
   "source": [
    "fasta_sequence = SeqIO.parse(input_file,'fasta')"
   ]
  },
  {
   "cell_type": "code",
   "execution_count": 5,
   "metadata": {},
   "outputs": [
    {
     "name": "stdout",
     "output_type": "stream",
     "text": [
      "NC_030942.1 55524\n"
     ]
    }
   ],
   "source": [
    "for record in SeqIO.parse(input_file, \"fasta\"):\n",
    "    print(\"%s %i\" % (record.id, len(record)))\n",
    "    name, sequence = record.id, str(record.seq)"
   ]
  },
  {
   "cell_type": "code",
   "execution_count": 22,
   "metadata": {},
   "outputs": [],
   "source": [
    "pattern_1=\"(?:G{3,}[ATGC]{1,7}){3,}G{3,}\"\n",
    "pattern_2=\"(?:G{3,}[ATGC]{1,12}){3,}G{3,}\""
   ]
  },
  {
   "cell_type": "code",
   "execution_count": 23,
   "metadata": {},
   "outputs": [],
   "source": [
    "PQS_1=[[m.start(),m.end(),m.group(0)] for m in re.finditer(pattern_1,sequence)] \n",
    "PQS_2=[[m.start(),m.end(),m.group(0)] for m in re.finditer(pattern_2,sequence)] "
   ]
  },
  {
   "cell_type": "code",
   "execution_count": 24,
   "metadata": {},
   "outputs": [
    {
     "data": {
      "text/plain": [
       "7"
      ]
     },
     "execution_count": 24,
     "metadata": {},
     "output_type": "execute_result"
    }
   ],
   "source": [
    "len(PQS_2)"
   ]
  },
  {
   "cell_type": "code",
   "execution_count": 18,
   "metadata": {},
   "outputs": [
    {
     "data": {
      "text/plain": [
       "[[30347, 30387, 'GGGTGGATCTGGGGATCGTGGGCGATCGGGTTGTCAGGGG'],\n",
       " [49946, 49967, 'GGGAGGGCCACCGGGAGAGGG']]"
      ]
     },
     "execution_count": 18,
     "metadata": {},
     "output_type": "execute_result"
    }
   ],
   "source": [
    "PQS_1"
   ]
  },
  {
   "cell_type": "code",
   "execution_count": null,
   "metadata": {},
   "outputs": [],
   "source": [
    "[30347, 30387, 'GGGTGGATCTGGGGATCGTGGGCGATCGGGTTGTCAGGGG'] # GENE34\n",
    "[49946, 49967, 'GGGAGGGCCACCGGGAGAGGG'] # GENE83"
   ]
  },
  {
   "cell_type": "code",
   "execution_count": 25,
   "metadata": {},
   "outputs": [
    {
     "data": {
      "text/plain": [
       "[[6787, 6819, 'GGGGTCGTGTGGGTGGAGGTCGACGGGAAGGG'],\n",
       " [21701, 21728, 'GGGCGGGCACCGACTATCCGGGGCGGG'],\n",
       " [21866, 21902, 'GGGATGAGATTCGGGCATGGTGGGTCAAGCGGAGGG'],\n",
       " [29641, 29668, 'GGGTCGGCGTTTGTGGGCGGGGTGGGG'],\n",
       " [30347, 30387, 'GGGTGGATCTGGGGATCGTGGGCGATCGGGTTGTCAGGGG'],\n",
       " [48344, 48379, 'GGGTCACCGGGCGGGGGTGGCTCTAATGGGCTGGG'],\n",
       " [49946, 49967, 'GGGAGGGCCACCGGGAGAGGG']]"
      ]
     },
     "execution_count": 25,
     "metadata": {},
     "output_type": "execute_result"
    }
   ],
   "source": [
    "PQS_2"
   ]
  },
  {
   "cell_type": "code",
   "execution_count": null,
   "metadata": {},
   "outputs": [],
   "source": [
    "[6787, 6819, 'GGGGTCGTGTGGGTGGAGGTCGACGGGAAGGG'] # GENE8\n",
    "[21701, 21728, 'GGGCGGGCACCGACTATCCGGGGCGGG'] # GENE26\n",
    "[21866, 21902, 'GGGATGAGATTCGGGCATGGTGGGTCAAGCGGAGGG'] # GENE26\n",
    "[29641, 29668, 'GGGTCGGCGTTTGTGGGCGGGGTGGGG'] # GENE32\n",
    "[30347, 30387, 'GGGTGGATCTGGGGATCGTGGGCGATCGGGTTGTCAGGGG'] # GENE34\n",
    "[48344, 48379, 'GGGTCACCGGGCGGGGGTGGCTCTAATGGGCTGGG'] # GENE77\n",
    "[49946, 49967, 'GGGAGGGCCACCGGGAGAGGG'] # GENE83"
   ]
  }
 ],
 "metadata": {
  "kernelspec": {
   "display_name": "Python 3",
   "language": "python",
   "name": "python3"
  },
  "language_info": {
   "codemirror_mode": {
    "name": "ipython",
    "version": 3
   },
   "file_extension": ".py",
   "mimetype": "text/x-python",
   "name": "python",
   "nbconvert_exporter": "python",
   "pygments_lexer": "ipython3",
   "version": "3.8.2"
  }
 },
 "nbformat": 4,
 "nbformat_minor": 4
}
