{
 "cells": [
  {
   "cell_type": "code",
   "execution_count": 40,
   "metadata": {},
   "outputs": [],
   "source": [
    "import re"
   ]
  },
  {
   "cell_type": "code",
   "execution_count": 94,
   "metadata": {},
   "outputs": [],
   "source": [
    "finding = '[0-9]\\.[0-9]*e[+-][02]*' # regexp for z-score"
   ]
  },
  {
   "cell_type": "code",
   "execution_count": 95,
   "metadata": {},
   "outputs": [],
   "source": [
    "li_1 = []\n",
    "with open('virus_z-hunt.fasta.Z-SCORE') as f:\n",
    "    file = f.read()\n",
    "    file = file.split('\\n')\n",
    "    for i in file:\n",
    "        Z_score = re.findall(finding, i)\n",
    "        li_1.append(Z_score)"
   ]
  },
  {
   "cell_type": "code",
   "execution_count": 96,
   "metadata": {},
   "outputs": [],
   "source": [
    "li_2 = [x for x in li_1 if x != []] # remove empty strings"
   ]
  },
  {
   "cell_type": "code",
   "execution_count": 97,
   "metadata": {},
   "outputs": [],
   "source": [
    "z_score_again = []\n",
    "for i in li_2:\n",
    "    for i in i:\n",
    "        i = float(i)\n",
    "        z_score_again.append(i) # convert scientific notations to decimals"
   ]
  },
  {
   "cell_type": "code",
   "execution_count": 107,
   "metadata": {},
   "outputs": [],
   "source": [
    "new_z_score = []\n",
    "for i in z_score_again:\n",
    "    if i > 400:\n",
    "        new_z_score.append(i) # find those that are more than 300"
   ]
  },
  {
   "cell_type": "code",
   "execution_count": 122,
   "metadata": {},
   "outputs": [],
   "source": [
    "new_li_2 = []\n",
    "for i in new_z_score:\n",
    "    sci_number = \"{:e}\".format(i)\n",
    "    new_li_2.append(sci_number) # convert back to scientific notation"
   ]
  },
  {
   "cell_type": "code",
   "execution_count": 132,
   "metadata": {},
   "outputs": [],
   "source": [
    "genes = []\n",
    "for row in file:\n",
    "    for i in new_li_2:\n",
    "        if i in row:\n",
    "            genes.append(row) # find the matches"
   ]
  },
  {
   "cell_type": "code",
   "execution_count": 134,
   "metadata": {},
   "outputs": [],
   "source": [
    "seen = set()\n",
    "result = []\n",
    "for item in genes:\n",
    "    if item not in seen:\n",
    "        seen.add(item)\n",
    "        result.append(item)"
   ]
  },
  {
   "cell_type": "code",
   "execution_count": 136,
   "metadata": {},
   "outputs": [
    {
     "data": {
      "text/plain": [
       "796"
      ]
     },
     "execution_count": 136,
     "metadata": {},
     "output_type": "execute_result"
    }
   ],
   "source": [
    "len(result) # number of the z-scores"
   ]
  },
  {
   "cell_type": "code",
   "execution_count": 138,
   "metadata": {},
   "outputs": [],
   "source": [
    "with open(\"genes_virus_z_scores.txt\", \"w\") as output:\n",
    "    output.write(str(result)) # convert genes (list) to a txt file"
   ]
  }
 ],
 "metadata": {
  "kernelspec": {
   "display_name": "Python 3",
   "language": "python",
   "name": "python3"
  },
  "language_info": {
   "codemirror_mode": {
    "name": "ipython",
    "version": 3
   },
   "file_extension": ".py",
   "mimetype": "text/x-python",
   "name": "python",
   "nbconvert_exporter": "python",
   "pygments_lexer": "ipython3",
   "version": "3.8.2"
  }
 },
 "nbformat": 4,
 "nbformat_minor": 4
}
